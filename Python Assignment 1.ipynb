{
 "cells": [
  {
   "cell_type": "markdown",
   "metadata": {},
   "source": [
    "1. Write a program which will find all such numbers which are divisible by 7 but are not a multiple of 5, between 2000 and 3200 (both included). The numbers obtained should be printed in a comma-separated sequence on a single line."
   ]
  },
  {
   "cell_type": "code",
   "execution_count": 10,
   "metadata": {},
   "outputs": [
    {
     "name": "stdout",
     "output_type": "stream",
     "text": [
      "2002\t2009\t2016\t2023\t2037\t2044\t2051\t2058\t2072\t2079\t2086\t2093\t2107\t2114\t2121\t2128\t2142\t2149\t2156\t2163\t2177\t2184\t2191\t2198\t2212\t2219\t2226\t2233\t2247\t2254\t2261\t2268\t2282\t2289\t2296\t2303\t2317\t2324\t2331\t2338\t2352\t2359\t2366\t2373\t2387\t2394\t2401\t2408\t2422\t2429\t2436\t2443\t2457\t2464\t2471\t2478\t2492\t2499\t2506\t2513\t2527\t2534\t2541\t2548\t2562\t2569\t2576\t2583\t2597\t2604\t2611\t2618\t2632\t2639\t2646\t2653\t2667\t2674\t2681\t2688\t2702\t2709\t2716\t2723\t2737\t2744\t2751\t2758\t2772\t2779\t2786\t2793\t2807\t2814\t2821\t2828\t2842\t2849\t2856\t2863\t2877\t2884\t2891\t2898\t2912\t2919\t2926\t2933\t2947\t2954\t2961\t2968\t2982\t2989\t2996\t3003\t3017\t3024\t3031\t3038\t3052\t3059\t3066\t3073\t3087\t3094\t3101\t3108\t3122\t3129\t3136\t3143\t3157\t3164\t3171\t3178\t3192\t3199\t"
     ]
    }
   ],
   "source": [
    "a = range(2000,3200)\n",
    "for i in a:\n",
    "    if (i%7 ==0) and (i%5 !=0):\n",
    "        print(i, end='\\t')"
   ]
  },
  {
   "cell_type": "markdown",
   "metadata": {},
   "source": [
    "2. Write a Python program to accept the user's first and last name and then getting them printed in the the reverse order with a space between first name and last name."
   ]
  },
  {
   "cell_type": "code",
   "execution_count": 11,
   "metadata": {},
   "outputs": [
    {
     "name": "stdout",
     "output_type": "stream",
     "text": [
      "Enter your first name: nitharsanan\n",
      "Enter your last name: gopalashanmugam\n",
      "gopalashanmugam nitharsanan\n"
     ]
    }
   ],
   "source": [
    "f_name = input(\"Enter your first name: \")\n",
    "l_name = input(\"Enter your last name: \")\n",
    "print(l_name, f_name)"
   ]
  },
  {
   "cell_type": "markdown",
   "metadata": {},
   "source": [
    "3. Write a Python program to find the volume of a sphere with diameter 12 cm.\n",
    "Formula: V=4/3 * π * r 3"
   ]
  },
  {
   "cell_type": "code",
   "execution_count": 12,
   "metadata": {},
   "outputs": [
    {
     "name": "stdout",
     "output_type": "stream",
     "text": [
      "volume of a sphere with diameter 12cm is :  904.7779199999999\n"
     ]
    }
   ],
   "source": [
    "# r = d/2, 12/2=6cm\n",
    "r = 6\n",
    "pi = 3.14159\n",
    "v = 4/3 * pi * r**3\n",
    "print(\"volume of a sphere with diameter 12cm is : \", v)"
   ]
  },
  {
   "cell_type": "code",
   "execution_count": null,
   "metadata": {},
   "outputs": [],
   "source": []
  }
 ],
 "metadata": {
  "kernelspec": {
   "display_name": "Python 3",
   "language": "python",
   "name": "python3"
  },
  "language_info": {
   "codemirror_mode": {
    "name": "ipython",
    "version": 3
   },
   "file_extension": ".py",
   "mimetype": "text/x-python",
   "name": "python",
   "nbconvert_exporter": "python",
   "pygments_lexer": "ipython3",
   "version": "3.8.3"
  }
 },
 "nbformat": 4,
 "nbformat_minor": 4
}
